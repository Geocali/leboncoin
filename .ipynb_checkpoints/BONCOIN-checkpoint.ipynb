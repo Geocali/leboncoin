{
 "cells": [
  {
   "cell_type": "markdown",
   "metadata": {},
   "source": [
    "# Real program"
   ]
  },
  {
   "cell_type": "markdown",
   "metadata": {},
   "source": [
    "Structure of url :\n",
    "https://www.leboncoin.fr/annonces/offres/rhone_alpes/?th=1&q=batterie%20lithium&it=0&parrot=1\n",
    "region : /rhone_alpes/\n",
    "keywords : q=batterie%20lithium\n",
    "look only in title : it=1\n",
    "only urgent ones : ur=1\n",
    "category : https://www.leboncoin.fr/locations/offres/rhone_alpes/?th=1&q=batterie%20lithium&parrot=1\n",
    "city : location=Toutes%20les%20communes%2073000\n"
   ]
  },
  {
   "cell_type": "code",
   "execution_count": 6,
   "metadata": {
    "collapsed": false
   },
   "outputs": [],
   "source": [
    "from urllib.request import urlopen\n",
    "from lxml import etree\n",
    "\n",
    "# ====== we define the parameters of the request\n",
    "\n",
    "search = '%20'.join(['batterie', 'lithium'])\n",
    "search = '%20'.join(['batterie', 'ordinateur'])\n",
    "\n",
    "regions = [\"rhone_alpes\", \"provence_alpes_cote_d_azur\", \"auvergne\", \"ile_de_france\", \"midi_pyrenees\", 'languedoc_roussillon']\n",
    "region = regions[4]\n",
    "code_postal = \"73000\"\n",
    "#location = \"&location=Toutes%20les%20communes%20\" + code_postal\n",
    "location = \"\"\n"
   ]
  },
  {
   "cell_type": "code",
   "execution_count": 8,
   "metadata": {
    "collapsed": false
   },
   "outputs": [],
   "source": [
    "\n",
    "#page_ad = urlopen(\"https://www.leboncoin.fr/informatique/986006790.htm?ca=16_s\")\n",
    "#page_ad = urlopen(\"https://www.leboncoin.fr/informatique/1103074424.htm?ca=16_s\")\n",
    "#page_ad = urlopen(\"https://www.leboncoin.fr/informatique/1124851402.htm?ca=12_s\")"
   ]
  },
  {
   "cell_type": "code",
   "execution_count": 13,
   "metadata": {
    "collapsed": false
   },
   "outputs": [],
   "source": [
    "from selenium import webdriver\n",
    "from selenium.webdriver.common.keys import Keys\n",
    "\n",
    "driver = webdriver.Firefox()\n",
    "\n",
    "\n",
    "# === loop on the pages\n",
    "o = 1\n",
    "url_request = \"https://www.leboncoin.fr/annonces/offres/\" + region + \"/?o=\" + str(o) + \"&th=1&q=\" + search + \"&it=1\" + location + \"&parrot=0\"\n",
    "page = page_class(url_request)\n",
    "\n"
   ]
  },
  {
   "cell_type": "code",
   "execution_count": 14,
   "metadata": {
    "collapsed": false
   },
   "outputs": [],
   "source": [
    "# == loop on the ads\n",
    "ok = True\n",
    "i = 0\n",
    "while(ok):\n",
    "    i = i + 1\n",
    "    try:\n",
    "        ad_infos = page.get_infos_ad(i)\n",
    "        if (ad_infos.ah != None):\n",
    "            print(ad_infos.ah / float(ad_infos.price), ad_infos.url)\n",
    "    except:\n",
    "        ok = False\n",
    "        \n",
    "        \n",
    "driver.close()"
   ]
  },
  {
   "cell_type": "code",
   "execution_count": null,
   "metadata": {
    "collapsed": true
   },
   "outputs": [],
   "source": []
  }
 ],
 "metadata": {
  "kernelspec": {
   "display_name": "Python [conda root]",
   "language": "python",
   "name": "conda-root-py"
  },
  "language_info": {
   "codemirror_mode": {
    "name": "ipython",
    "version": 3
   },
   "file_extension": ".py",
   "mimetype": "text/x-python",
   "name": "python",
   "nbconvert_exporter": "python",
   "pygments_lexer": "ipython3",
   "version": "3.5.2"
  }
 },
 "nbformat": 4,
 "nbformat_minor": 2
}
