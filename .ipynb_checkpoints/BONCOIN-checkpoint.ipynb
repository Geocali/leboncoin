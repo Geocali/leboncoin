{
 "cells": [
  {
   "cell_type": "markdown",
   "metadata": {},
   "source": [
    "# Real program"
   ]
  },
  {
   "cell_type": "markdown",
   "metadata": {},
   "source": [
    "Structure of url :\n",
    "https://www.leboncoin.fr/annonces/offres/rhone_alpes/?th=1&q=batterie%20lithium&it=0&parrot=1\n",
    "region : /rhone_alpes/\n",
    "keywords : q=batterie%20lithium\n",
    "look only in title : it=1\n",
    "only urgent ones : ur=1\n",
    "category : https://www.leboncoin.fr/locations/offres/rhone_alpes/?th=1&q=batterie%20lithium&parrot=1\n",
    "city : location=Toutes%20les%20communes%2073000\n"
   ]
  },
  {
   "cell_type": "code",
   "execution_count": 3,
   "metadata": {
    "collapsed": false
   },
   "outputs": [],
   "source": [
    "from urllib.request import urlopen\n",
    "from lxml import etree\n",
    "\n",
    "# ====== we define the parameters of the request\n",
    "\n",
    "l_keywords = ['batterie', 'lithium']\n",
    "keywords = '%20'.join(l_keywords)\n",
    "\n",
    "region = \"rhone_alpes\"\n",
    "code_postal = \"73000\"\n",
    "#location = \"&location=Toutes%20les%20communes%20\" + code_postal\n",
    "location = \"\"\n"
   ]
  },
  {
   "cell_type": "code",
   "execution_count": 10,
   "metadata": {
    "collapsed": false
   },
   "outputs": [],
   "source": [
    "import re # regular expressions\n",
    "\n",
    "class ad_class:\n",
    "    def __init__(self, title, price, url, time, city, img):\n",
    "        self.title = title\n",
    "        self.price = price\n",
    "        self.url = url\n",
    "        self.time = time\n",
    "        self.city = city\n",
    "        self.img = img\n",
    "        \n",
    "        self.ah = self.return_ah(self.title)\n",
    "    # first evaluation to see if the ad is interesting\n",
    "    # returns True if the ad is interesting\n",
    "    def looks_interesting(self):\n",
    "        if float(self.price) > 300:\n",
    "            return False\n",
    "        print(str(self.ah / self.price) + \" ah/euros\")\n",
    "        return True\n",
    "    def return_ah(self, string):\n",
    "        pattern = re.compile(r'([0-9.,]*\\Smah)', re.IGNORECASE)\n",
    "        if (pattern.search(string) != None):\n",
    "            ah = pattern.search(string).groups()[0][:-3].replace(\",\", \".\")\n",
    "            return float(ah)/1000\n",
    "        pattern = re.compile(r'([0-9.,]* mah)', re.IGNORECASE)\n",
    "        if (pattern.search(string) != None):\n",
    "            ah = pattern.search(string).groups()[0][:-4].replace(\",\", \".\")\n",
    "            return float(ah)/1000\n",
    "        pattern = re.compile(r'([0-9.,]*\\Sah)', re.IGNORECASE)\n",
    "        if (pattern.search(string) != None):\n",
    "            ah = pattern.search(string).groups()[0][:-2].replace(\",\", \".\")\n",
    "            return float(ah)\n",
    "        pattern = re.compile(r'([0-9.,]* ah)', re.IGNORECASE)\n",
    "        if (pattern.search(string) != None):\n",
    "            ah = pattern.search(string).groups()[0][:-3].replace(\",\", \".\")\n",
    "            return float(ah)\n",
    "\n",
    "class page_class:\n",
    "    def __init__(self, url_request):\n",
    "        htmlparser = etree.HTMLParser()\n",
    "        page_ads = urlopen(url_request)\n",
    "        self.tree_ads = etree.parse(page_ads, htmlparser)\n",
    "    def get_infos_ad(self, i):\n",
    "        ad_glob = self.tree_ads.xpath(\"/html/body/section[1]/main/section/section/section/section/ul/li[\" + str(i) + \"]/a\")\n",
    "        ad_url = \"http:\" + ad_glob[0].values()[0]\n",
    "        ad_title = ad_glob[0].values()[1]\n",
    "\n",
    "        ad_img = self.tree_ads.xpath(\"/html/body/section[1]/main/section/section/section/section/ul/li[\" + str(i) + \"]/a/div[1]/span[1]/span[1]\")\n",
    "        url_img_ad = \"http:\" + ad_img[0].values()[2]\n",
    "\n",
    "        ad_city_elmt = self.tree_ads.xpath(\"/html/body/section[1]/main/section/section/section/section/ul/li[\" + str(i) + \"]/a/section/p[2]\")\n",
    "        ad_city = ad_city_elmt[0].getchildren()[0].values()\n",
    "\n",
    "        ad_price_elmt = self.tree_ads.xpath(\"/html/body/section[1]/main/section/section/section/section/ul/li[\" + str(i) + \"]/a/section/h3\")\n",
    "        ad_price = ad_price_elmt[0].values()[2]\n",
    "\n",
    "        ad_time_elmt = self.tree_ads.xpath(\"/html/body/section[1]/main/section/section/section/section/ul/li[1]/a/section/aside/p\")\n",
    "        ad_time = ad_time_elmt[0].values()[2]\n",
    "        \n",
    "        return ad_class(ad_title, ad_price, ad_url, ad_time, ad_city, url_img_ad)\n",
    "        "
   ]
  },
  {
   "cell_type": "code",
   "execution_count": 12,
   "metadata": {
    "collapsed": false
   },
   "outputs": [],
   "source": [
    "\n",
    "# === loop on the pages\n",
    "o = 1\n",
    "\n",
    "url_request = \"https://www.leboncoin.fr/annonces/offres/\" + region + \"/?o=\" + str(o) + \"&th=1&q=\" + keywords + \"&it=1\" + location + \"&parrot=1\"\n",
    "#page_ads = urlopen(url_request)\n",
    "#tree_ads = etree.parse(page_ads, htmlparser)\n",
    "page = page_class(url_request)\n"
   ]
  },
  {
   "cell_type": "code",
   "execution_count": 30,
   "metadata": {
    "collapsed": false
   },
   "outputs": [
    {
     "name": "stdout",
     "output_type": "stream",
     "text": [
      "0.1\n",
      "0.05\n",
      "0.4\n",
      "0.31\n",
      "0.05\n",
      "0.044444444444444446\n",
      "0.05357142857142857\n"
     ]
    }
   ],
   "source": [
    "# == loop on the ads\n",
    "ok = True\n",
    "i = 0\n",
    "while(ok):\n",
    "    i = i + 1\n",
    "    try:\n",
    "        ad_infos = page.get_infos_ad(i)\n",
    "        if (ad_infos.ah != None):\n",
    "            print(ad_infos.ah / float(ad_infos.price))\n",
    "    except:\n",
    "        ok = False"
   ]
  },
  {
   "cell_type": "code",
   "execution_count": null,
   "metadata": {
    "collapsed": true
   },
   "outputs": [],
   "source": []
  }
 ],
 "metadata": {
  "kernelspec": {
   "display_name": "Python [conda root]",
   "language": "python",
   "name": "conda-root-py"
  },
  "language_info": {
   "codemirror_mode": {
    "name": "ipython",
    "version": 3
   },
   "file_extension": ".py",
   "mimetype": "text/x-python",
   "name": "python",
   "nbconvert_exporter": "python",
   "pygments_lexer": "ipython3",
   "version": "3.5.2"
  }
 },
 "nbformat": 4,
 "nbformat_minor": 2
}
