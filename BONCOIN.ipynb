{
 "cells": [
  {
   "cell_type": "markdown",
   "metadata": {},
   "source": [
    "# Real program"
   ]
  },
  {
   "cell_type": "markdown",
   "metadata": {},
   "source": [
    "Structure of url :\n",
    "https://www.leboncoin.fr/annonces/offres/rhone_alpes/?th=1&q=batterie%20lithium&it=0&parrot=1\n",
    "region : /rhone_alpes/\n",
    "keywords : q=batterie%20lithium\n",
    "look only in title : it=1\n",
    "only urgent ones : ur=1\n",
    "category : https://www.leboncoin.fr/locations/offres/rhone_alpes/?th=1&q=batterie%20lithium&parrot=1\n",
    "city : location=Toutes%20les%20communes%2073000\n"
   ]
  },
  {
   "cell_type": "code",
   "execution_count": 1,
   "metadata": {
    "collapsed": false
   },
   "outputs": [],
   "source": [
    "from urllib.request import urlopen\n",
    "from lxml import etree\n",
    "\n",
    "# ====== we define the parameters of the request\n",
    "\n",
    "search = '%20'.join(['batterie', 'lithium'])\n",
    "search = '%20'.join(['batterie', 'ordinateur'])\n",
    "\n",
    "regions = [\"rhone_alpes\", \"provence_alpes_cote_d_azur\", \"auvergne\", \"ile_de_france\", \"midi_pyrenees\", 'languedoc_roussillon']\n",
    "region = regions[4]\n",
    "code_postal = \"73000\"\n",
    "#location = \"&location=Toutes%20les%20communes%20\" + code_postal\n",
    "location = \"\"\n"
   ]
  },
  {
   "cell_type": "code",
   "execution_count": 218,
   "metadata": {
    "collapsed": false
   },
   "outputs": [],
   "source": [
    "import re # regular expressions\n",
    "\n",
    "class ad_class:\n",
    "    def __init__(self, title, price, url, time, city, img):\n",
    "        self.title = title\n",
    "        self.price = price\n",
    "        self.url = url\n",
    "        self.time = time\n",
    "        self.city = city\n",
    "        self.img = img\n",
    "        \n",
    "        # we try to get the capacity from the title\n",
    "        ah = self.return_ah(self.title)\n",
    "        # if we don't succeed, we try from the text of the ad\n",
    "        if (ah == None):\n",
    "            page_details = detailed_page_class(self.url)\n",
    "            ah = self.return_ah(self.desc)\n",
    "        # if we don't succeed, we try to find the info in the pictures\n",
    "        if (ah == None):\n",
    "            pass\n",
    "        self.ah = ah\n",
    "    # first evaluation to see if the ad is interesting\n",
    "    # returns True if the ad is interesting\n",
    "    def looks_interesting(self):\n",
    "        if float(self.price) > 300:\n",
    "            return False\n",
    "        print(str(self.ah / self.price) + \" ah/euros\")\n",
    "        return True\n",
    "    def return_ah(self, string):\n",
    "        pattern = re.compile(r'([0-9.,]*\\Smah)', re.IGNORECASE)\n",
    "        if (pattern.search(string) != None):\n",
    "            ah = pattern.search(string).groups()[0][:-3].replace(\",\", \".\")\n",
    "            return float(ah)/1000\n",
    "        pattern = re.compile(r'([0-9.,]* mah)', re.IGNORECASE)\n",
    "        if (pattern.search(string) != None):\n",
    "            ah = pattern.search(string).groups()[0][:-4].replace(\",\", \".\")\n",
    "            return float(ah)/1000\n",
    "        pattern = re.compile(r'([0-9.,]*\\Sah)', re.IGNORECASE)\n",
    "        if (pattern.search(string) != None):\n",
    "            ah = pattern.search(string).groups()[0][:-2].replace(\",\", \".\")\n",
    "            return float(ah)\n",
    "        pattern = re.compile(r'([0-9.,]* ah)', re.IGNORECASE)\n",
    "        if (pattern.search(string) != None):\n",
    "            ah = pattern.search(string).groups()[0][:-3].replace(\",\", \".\")\n",
    "            return float(ah)\n",
    "\n",
    "class page_class:\n",
    "    def __init__(self, url_request):\n",
    "        htmlparser = etree.HTMLParser()\n",
    "        page_ads = urlopen(url_request)\n",
    "        self.tree_ads = etree.parse(page_ads, htmlparser)\n",
    "    def get_infos_ad(self, i):\n",
    "        ad_glob = self.tree_ads.xpath(\"/html/body/section[1]/main/section/section/section/section/ul/li[\" + str(i) + \"]/a\")\n",
    "        ad_url = \"http:\" + ad_glob[0].values()[0]\n",
    "        ad_title = ad_glob[0].values()[1]\n",
    "\n",
    "        ad_img = self.tree_ads.xpath(\"/html/body/section[1]/main/section/section/section/section/ul/li[\" + str(i) + \"]/a/div[1]/span[1]/span[1]\")\n",
    "        url_img_ad = \"http:\" + ad_img[0].values()[2]\n",
    "\n",
    "        ad_city_elmt = self.tree_ads.xpath(\"/html/body/section[1]/main/section/section/section/section/ul/li[\" + str(i) + \"]/a/section/p[2]\")\n",
    "        ad_city = ad_city_elmt[0].getchildren()[0].values()\n",
    "\n",
    "        ad_price_elmt = self.tree_ads.xpath(\"/html/body/section[1]/main/section/section/section/section/ul/li[\" + str(i) + \"]/a/section/h3\")\n",
    "        ad_price = ad_price_elmt[0].values()[2]\n",
    "\n",
    "        ad_time_elmt = self.tree_ads.xpath(\"/html/body/section[1]/main/section/section/section/section/ul/li[1]/a/section/aside/p\")\n",
    "        ad_time = ad_time_elmt[0].values()[2]\n",
    "        \n",
    "        return ad_class(ad_title, ad_price, ad_url, ad_time, ad_city, url_img_ad)\n",
    "        \n",
    "class detailed_page_class:\n",
    "    def get_infos_ad(self):\n",
    "        # we get the city\n",
    "        xpath_city = \"/html/body/section[1]/main/section/section/section/section/section/div[5]/h2/span[2]\"\n",
    "        city_elmt = self.tree_ad.xpath(xpath_city)\n",
    "        city = city_elmt[0].text\n",
    "        \n",
    "        # we get the description\n",
    "        # if there is only one image, there is only one section\n",
    "        try:\n",
    "            xpath_desc = \"/html/body/section[1]/main/section/section/section/section/section[2]/div[6]/p[2]\"\n",
    "            desc_elmt = self.tree_ad.xpath(xpath_desc)\n",
    "            text_iterator = desc_elmt[0].itertext()\n",
    "            desc = \"\"\n",
    "            for txt in text_iterator:\n",
    "                desc = desc + \" \" + txt\n",
    "        except:\n",
    "            xpath_desc = \"/html/body/section[1]/main/section/section/section/section/section/div[6]/p[2]\"\n",
    "            desc_elmt = self.tree_ad.xpath(xpath_desc)\n",
    "            text_iterator = desc_elmt[0].itertext()\n",
    "            desc = \"\"\n",
    "            for txt in text_iterator:\n",
    "                desc = desc + \" \" + txt\n",
    "                \n",
    "        # to get the images :\n",
    "        # they are protected : a javascript code creates the link, so we have no direct access to the urls\n",
    "        # we have to use selenium\n",
    "        # !!!!! fazer\n",
    "\n",
    "        return city,  desc, 1\n",
    "    def __init__(self, url_ad):\n",
    "        htmlparser = etree.HTMLParser()\n",
    "        page_ad = urlopen(url_ad)\n",
    "        self.tree_ad = etree.parse(page_ad, htmlparser)\n",
    "        self.city, self.desc, self.images = self.get_infos_ad()\n",
    "        \n",
    "        \n",
    "    "
   ]
  },
  {
   "cell_type": "code",
   "execution_count": 2,
   "metadata": {
    "collapsed": false
   },
   "outputs": [],
   "source": [
    "\n",
    "#page_ad = urlopen(\"https://www.leboncoin.fr/informatique/986006790.htm?ca=16_s\")\n",
    "#page_ad = urlopen(\"https://www.leboncoin.fr/informatique/1103074424.htm?ca=16_s\")\n"
   ]
  },
  {
   "cell_type": "code",
   "execution_count": 4,
   "metadata": {
    "collapsed": false
   },
   "outputs": [],
   "source": [
    "from selenium import webdriver\n",
    "from selenium.webdriver.common.keys import Keys\n",
    "\n",
    "driver = webdriver.Firefox()\n",
    "driver.get(\"https://www.leboncoin.fr/informatique/1103074424.htm?ca=16_s\")\n"
   ]
  },
  {
   "cell_type": "code",
   "execution_count": 5,
   "metadata": {
    "collapsed": false
   },
   "outputs": [
    {
     "name": "stdout",
     "output_type": "stream",
     "text": [
      "https://img1.leboncoin.fr/ad-thumb/bcf9377259612bf7f7c11220d7c92248221315e5.jpg\n"
     ]
    }
   ],
   "source": [
    "# only if there is more than 1 image\n",
    "i = 2\n",
    "xpath = \"/html/body/section[1]/main/section/section/section/section/section[1]/div/ul/li[\" + str(i) + \"]/span/img\"\n",
    "elem = driver.find_element_by_xpath(xpath)\n",
    "url_img = elem.get_attribute(\"src\")\n",
    "print(url_img)\n",
    "driver.close()"
   ]
  },
  {
   "cell_type": "code",
   "execution_count": 154,
   "metadata": {
    "collapsed": false
   },
   "outputs": [],
   "source": [
    "\n",
    "# === loop on the pages\n",
    "o = 1\n",
    "\n",
    "url_request = \"https://www.leboncoin.fr/annonces/offres/\" + region + \"/?o=\" + str(o) + \"&th=1&q=\" + search + \"&it=1\" + location + \"&parrot=0\"\n",
    "#page_ads = urlopen(url_request)\n",
    "#tree_ads = etree.parse(page_ads, htmlparser)\n",
    "page = page_class(url_request)\n"
   ]
  },
  {
   "cell_type": "code",
   "execution_count": 64,
   "metadata": {
    "collapsed": false
   },
   "outputs": [],
   "source": [
    "# == loop on the ads\n",
    "ok = True\n",
    "i = 0\n",
    "while(ok):\n",
    "    i = i + 1\n",
    "    try:\n",
    "        ad_infos = page.get_infos_ad(i)\n",
    "        if (ad_infos.ah != None):\n",
    "            print(ad_infos.ah / float(ad_infos.price), ad_infos.url)\n",
    "    except:\n",
    "        ok = False"
   ]
  },
  {
   "cell_type": "code",
   "execution_count": 120,
   "metadata": {
    "collapsed": false
   },
   "outputs": [
    {
     "name": "stdout",
     "output_type": "stream",
     "text": [
      "['__bool__', '__class__', '__contains__', '__copy__', '__deepcopy__', '__delattr__', '__delitem__', '__dir__', '__doc__', '__eq__', '__format__', '__ge__', '__getattribute__', '__getitem__', '__gt__', '__hash__', '__init__', '__iter__', '__le__', '__len__', '__lt__', '__ne__', '__new__', '__reduce__', '__reduce_ex__', '__repr__', '__reversed__', '__setattr__', '__setitem__', '__sizeof__', '__str__', '__subclasshook__', '_init', 'addnext', 'addprevious', 'append', 'attrib', 'base', 'clear', 'cssselect', 'extend', 'find', 'findall', 'findtext', 'get', 'getchildren', 'getiterator', 'getnext', 'getparent', 'getprevious', 'getroottree', 'index', 'insert', 'items', 'iter', 'iterancestors', 'iterchildren', 'iterdescendants', 'iterfind', 'itersiblings', 'itertext', 'keys', 'makeelement', 'nsmap', 'prefix', 'remove', 'replace', 'set', 'sourceline', 'tag', 'tail', 'text', 'values', 'xpath']\n",
      "['__bool__', '__class__', '__contains__', '__copy__', '__deepcopy__', '__delattr__', '__delitem__', '__dir__', '__doc__', '__eq__', '__format__', '__ge__', '__getattribute__', '__getitem__', '__gt__', '__hash__', '__init__', '__iter__', '__le__', '__len__', '__lt__', '__ne__', '__new__', '__reduce__', '__reduce_ex__', '__repr__', '__reversed__', '__setattr__', '__setitem__', '__sizeof__', '__str__', '__subclasshook__', '_init', 'addnext', 'addprevious', 'append', 'attrib', 'base', 'clear', 'cssselect', 'extend', 'find', 'findall', 'findtext', 'get', 'getchildren', 'getiterator', 'getnext', 'getparent', 'getprevious', 'getroottree', 'index', 'insert', 'items', 'iter', 'iterancestors', 'iterchildren', 'iterdescendants', 'iterfind', 'itersiblings', 'itertext', 'keys', 'makeelement', 'nsmap', 'prefix', 'remove', 'replace', 'set', 'sourceline', 'tag', 'tail', 'text', 'values', 'xpath']\n",
      "['__bool__', '__class__', '__contains__', '__copy__', '__deepcopy__', '__delattr__', '__delitem__', '__dir__', '__doc__', '__eq__', '__format__', '__ge__', '__getattribute__', '__getitem__', '__gt__', '__hash__', '__init__', '__iter__', '__le__', '__len__', '__lt__', '__ne__', '__new__', '__reduce__', '__reduce_ex__', '__repr__', '__reversed__', '__setattr__', '__setitem__', '__sizeof__', '__str__', '__subclasshook__', '_init', 'addnext', 'addprevious', 'append', 'attrib', 'base', 'clear', 'cssselect', 'extend', 'find', 'findall', 'findtext', 'get', 'getchildren', 'getiterator', 'getnext', 'getparent', 'getprevious', 'getroottree', 'index', 'insert', 'items', 'iter', 'iterancestors', 'iterchildren', 'iterdescendants', 'iterfind', 'itersiblings', 'itertext', 'keys', 'makeelement', 'nsmap', 'prefix', 'remove', 'replace', 'set', 'sourceline', 'tag', 'tail', 'text', 'values', 'xpath']\n"
     ]
    }
   ],
   "source": [
    "\n"
   ]
  },
  {
   "cell_type": "code",
   "execution_count": null,
   "metadata": {
    "collapsed": false
   },
   "outputs": [],
   "source": []
  },
  {
   "cell_type": "code",
   "execution_count": null,
   "metadata": {
    "collapsed": true
   },
   "outputs": [],
   "source": []
  }
 ],
 "metadata": {
  "kernelspec": {
   "display_name": "Python [conda root]",
   "language": "python",
   "name": "conda-root-py"
  },
  "language_info": {
   "codemirror_mode": {
    "name": "ipython",
    "version": 3
   },
   "file_extension": ".py",
   "mimetype": "text/x-python",
   "name": "python",
   "nbconvert_exporter": "python",
   "pygments_lexer": "ipython3",
   "version": "3.5.2"
  }
 },
 "nbformat": 4,
 "nbformat_minor": 2
}
